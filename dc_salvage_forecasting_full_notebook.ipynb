{
 "cells": [
  {
   "cell_type": "markdown",
   "id": "b78ec230",
   "metadata": {},
   "source": [
    "# DC Salvage Forecasting - ML Comparison Notebook"
   ]
  },
  {
   "cell_type": "code",
   "execution_count": null,
   "id": "396af51b",
   "metadata": {},
   "outputs": [],
   "source": [
    "import pandas as pd\n",
    "import numpy as np\n",
    "import matplotlib.pyplot as plt\n",
    "import seaborn as sns\n",
    "from sklearn.metrics import mean_squared_error, mean_absolute_error\n",
    "from prophet import Prophet\n",
    "import statsmodels.api as sm\n",
    "from xgboost import XGBRegressor\n",
    "from keras.models import Sequential\n",
    "from keras.layers import LSTM, Dense\n",
    "from sklearn.model_selection import train_test_split\n",
    "from sklearn.preprocessing import MinMaxScaler"
   ]
  },
  {
   "cell_type": "code",
   "execution_count": null,
   "id": "fe9b6f1f",
   "metadata": {},
   "outputs": [],
   "source": [
    "df = pd.read_csv('dc_salvage_data.csv')\n",
    "df['date'] = pd.to_datetime(df['date'])\n",
    "df = df.sort_values('date')"
   ]
  },
  {
   "cell_type": "code",
   "execution_count": null,
   "id": "3c2327e0",
   "metadata": {},
   "outputs": [],
   "source": [
    "weekly_df = df.groupby('date')['salvage_qty'].sum().reset_index()\n",
    "weekly_df.columns = ['ds', 'y']"
   ]
  },
  {
   "cell_type": "markdown",
   "id": "f2301536",
   "metadata": {},
   "source": [
    "## Prophet Forecasting"
   ]
  },
  {
   "cell_type": "code",
   "execution_count": null,
   "id": "023c7b74",
   "metadata": {},
   "outputs": [],
   "source": [
    "prophet_model = Prophet()\n",
    "prophet_model.fit(weekly_df)\n",
    "future = prophet_model.make_future_dataframe(periods=12, freq='W')\n",
    "forecast_prophet = prophet_model.predict(future)\n",
    "y_true = weekly_df['y'][-12:]\n",
    "y_pred = forecast_prophet['yhat'][-12:]\n",
    "rmse_prophet = np.sqrt(mean_squared_error(y_true, y_pred))"
   ]
  },
  {
   "cell_type": "markdown",
   "id": "0d2a43b3",
   "metadata": {},
   "source": [
    "## SARIMA Forecasting"
   ]
  },
  {
   "cell_type": "code",
   "execution_count": null,
   "id": "fa64d4e5",
   "metadata": {},
   "outputs": [],
   "source": [
    "sarima_model = sm.tsa.SARIMAX(weekly_df['y'], order=(1,1,1), seasonal_order=(1,1,1,52))\n",
    "sarima_result = sarima_model.fit(disp=False)\n",
    "forecast_sarima = sarima_result.forecast(12)\n",
    "rmse_sarima = np.sqrt(mean_squared_error(y_true, forecast_sarima))"
   ]
  },
  {
   "cell_type": "markdown",
   "id": "3baca08f",
   "metadata": {},
   "source": [
    "## XGBoost Forecasting"
   ]
  },
  {
   "cell_type": "code",
   "execution_count": null,
   "id": "fb4a6e52",
   "metadata": {},
   "outputs": [],
   "source": [
    "weekly_df['weekofyear'] = weekly_df['ds'].dt.isocalendar().week\n",
    "weekly_df['year'] = weekly_df['ds'].dt.year\n",
    "\n",
    "X = weekly_df[['weekofyear', 'year']]\n",
    "y = weekly_df['y']\n",
    "X_train, X_test, y_train, y_test = train_test_split(X, y, shuffle=False, test_size=0.2)\n",
    "\n",
    "xgb_model = XGBRegressor()\n",
    "xgb_model.fit(X_train, y_train)\n",
    "y_pred_xgb = xgb_model.predict(X_test)\n",
    "rmse_xgb = np.sqrt(mean_squared_error(y_test, y_pred_xgb))"
   ]
  },
  {
   "cell_type": "markdown",
   "id": "74d52208",
   "metadata": {},
   "source": [
    "## LSTM Forecasting"
   ]
  },
  {
   "cell_type": "code",
   "execution_count": null,
   "id": "72e3f903",
   "metadata": {},
   "outputs": [],
   "source": [
    "scaler = MinMaxScaler()\n",
    "scaled_data = scaler.fit_transform(weekly_df[['y']])\n",
    "\n",
    "X_lstm, y_lstm = [], []\n",
    "for i in range(10, len(scaled_data)):\n",
    "    X_lstm.append(scaled_data[i-10:i, 0])\n",
    "    y_lstm.append(scaled_data[i, 0])\n",
    "X_lstm, y_lstm = np.array(X_lstm), np.array(y_lstm)\n",
    "X_lstm = np.reshape(X_lstm, (X_lstm.shape[0], X_lstm.shape[1], 1))\n",
    "\n",
    "model_lstm = Sequential()\n",
    "model_lstm.add(LSTM(50, return_sequences=False, input_shape=(X_lstm.shape[1], 1)))\n",
    "model_lstm.add(Dense(1))\n",
    "model_lstm.compile(optimizer='adam', loss='mse')\n",
    "model_lstm.fit(X_lstm, y_lstm, epochs=10, batch_size=1, verbose=0)\n",
    "\n",
    "y_pred_lstm = model_lstm.predict(X_lstm[-12:])\n",
    "y_pred_lstm = scaler.inverse_transform(y_pred_lstm)\n",
    "y_true_lstm = scaler.inverse_transform(scaled_data[-12:])\n",
    "rmse_lstm = np.sqrt(mean_squared_error(y_true_lstm, y_pred_lstm))"
   ]
  },
  {
   "cell_type": "markdown",
   "id": "07035ad9",
   "metadata": {},
   "source": [
    "## Comparison & Recommendation"
   ]
  },
  {
   "cell_type": "code",
   "execution_count": null,
   "id": "92287099",
   "metadata": {},
   "outputs": [],
   "source": [
    "print('Model Comparison (RMSE):')\n",
    "print(f'Prophet: {rmse_prophet:.2f}')\n",
    "print(f'SARIMA: {rmse_sarima:.2f}')\n",
    "print(f'XGBoost: {rmse_xgb:.2f}')\n",
    "print(f'LSTM: {rmse_lstm:.2f}')\n",
    "\n",
    "print('\\nRecommendations:')\n",
    "print('- Use Prophet for seasonal trends and interpretability')\n",
    "print('- Use SARIMA for stable historical patterns')\n",
    "print('- Use XGBoost when multiple influencing features are available')\n",
    "print('- Use LSTM for deep time-series forecasting with longer dependencies')"
   ]
  }
 ],
 "metadata": {},
 "nbformat": 4,
 "nbformat_minor": 5
}
